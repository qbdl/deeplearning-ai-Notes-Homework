{
 "cells": [
  {
   "cell_type": "markdown",
   "metadata": {},
   "source": [
    "### 淘宝旺旺：充电时间   提醒您：\n",
    "     1. 在所有In[]里的  ### START CODE HERE ### 和  ### END CODE HERE ### 之间的位置 填写您的答案代码，(≈ 3 lines of code)括号里会提示答案大概有几行代码，当然每个人写法可能不一样\n",
    "     2. 鼠标点了当前这个In[]后，再按上面Run按钮运行代码，如果答案正确，将会得到和下面 Expected output提示一致的输出内容\n",
    "\n",
    "\n",
    "#### 切记切记：\n",
    "     1. 首次使用时，每个In[] 一定要从上往下逐个Run，否则如果直接从中间或者后面开始会出现类似变量未定义的错误提示，因为前面的代码都没运行过\n",
    "     2. 如果要移动作业位置的话，单个编程作业一定要整个文件夹拷贝，因为里面的images,datasess 等资源文件/文件夹和.ipynb作业文件是关联的，否则运行会出错\n"
   ]
  },
  {
   "cell_type": "markdown",
   "metadata": {},
   "source": [
    "# Keras tutorial - the Happy House\n",
    "\n",
    "Welcome to the first assignment of week 2. In this assignment, you will:\n",
    "1. Learn to use Keras, a high-level neural networks API (programming framework), written in Python and capable of running on top of several lower-level frameworks including TensorFlow and CNTK. \n",
    "2. See how you can in a couple of hours build a deep learning algorithm.\n",
    "\n",
    "Why are we using Keras? Keras was developed to enable deep learning engineers to build and experiment with different models very quickly. Just as TensorFlow is a higher-level framework than Python, Keras is an even higher-level framework and provides additional abstractions. Being able to go from idea to result with the least possible delay is key to finding good models. However, Keras is more restrictive than the lower-level frameworks, so there are some very complex models that you can implement in TensorFlow but not (without more difficulty) in Keras. That being said, Keras will work fine for many common models. \n",
    "\n",
    "In this exercise, you'll work on the \"Happy House\" problem, which we'll explain below. Let's load the required packages and solve the problem of the Happy House!"
   ]
  },
  {
   "cell_type": "code",
   "execution_count": 1,
   "metadata": {},
   "outputs": [
    {
     "name": "stderr",
     "output_type": "stream",
     "text": [
      "WARNING: Ignoring invalid distribution - (c:\\python310\\lib\\site-packages)\n",
      "WARNING: Ignoring invalid distribution -ip (c:\\python310\\lib\\site-packages)\n",
      "WARNING: Ignoring invalid distribution - (c:\\python310\\lib\\site-packages)\n",
      "WARNING: Ignoring invalid distribution -ip (c:\\python310\\lib\\site-packages)\n"
     ]
    },
    {
     "name": "stdout",
     "output_type": "stream",
     "text": [
      "Requirement already satisfied: pydot in c:\\python310\\lib\\site-packages (1.4.2)\n",
      "Requirement already satisfied: pyparsing>=2.1.4 in c:\\users\\likejie\\appdata\\roaming\\python\\python310\\site-packages (from pydot) (3.0.9)\n",
      "Note: you may need to restart the kernel to use updated packages.\n"
     ]
    }
   ],
   "source": [
    "import numpy as np\n",
    "from keras import layers\n",
    "from keras.layers import Input, Dense, Activation, ZeroPadding2D, BatchNormalization, Flatten, Conv2D\n",
    "from keras.layers import AveragePooling2D, MaxPooling2D, Dropout, GlobalMaxPooling2D, GlobalAveragePooling2D\n",
    "from keras.models import Model\n",
    "from keras.preprocessing import image\n",
    "from keras.utils import layer_utils\n",
    "from keras.utils.data_utils import get_file\n",
    "from keras.applications.imagenet_utils import preprocess_input\n",
    "%pip install pydot\n",
    "import pydot\n",
    "from IPython.display import SVG\n",
    "from keras.utils.vis_utils import model_to_dot\n",
    "from keras.utils import plot_model\n",
    "from kt_utils import *\n",
    "\n",
    "import keras.backend as K\n",
    "K.set_image_data_format('channels_last')\n",
    "import matplotlib.pyplot as plt\n",
    "from matplotlib.pyplot import imshow\n",
    "\n",
    "%matplotlib inline"
   ]
  },
  {
   "cell_type": "markdown",
   "metadata": {},
   "source": [
    "**Note**: As you can see, we've imported a lot of functions from Keras. You can use them easily just by calling them directly in the notebook. Ex: `X = Input(...)` or `X = ZeroPadding2D(...)`."
   ]
  },
  {
   "cell_type": "markdown",
   "metadata": {},
   "source": [
    "## 1 - The Happy House \n",
    "\n",
    "For your next vacation, you decided to spend a week with five of your friends from school. It is a very convenient house with many things to do nearby. But the most important benefit is that everybody has commited to be happy when they are in the house. So anyone wanting to enter the house must prove their current state of happiness.\n",
    "\n",
    "<img src=\"images/happy-house.jpg\" style=\"width:350px;height:270px;\">\n",
    "<caption><center> <u> <font color='purple'> **Figure 1** </u><font color='purple'>  : **the Happy House**</center></caption>\n",
    "\n",
    "\n",
    "As a deep learning expert, to make sure the \"Happy\" rule is strictly applied, you are going to build an algorithm which that uses pictures from the front door camera to check if the person is happy or not. The door should open only if the person is happy. \n",
    "\n",
    "You have gathered pictures of your friends and yourself, taken by the front-door camera. The dataset is labbeled. \n",
    "\n",
    "<img src=\"images/house-members.png\" style=\"width:550px;height:250px;\">\n",
    "\n",
    "Run the following code to normalize the dataset and learn about its shapes."
   ]
  },
  {
   "cell_type": "code",
   "execution_count": 2,
   "metadata": {},
   "outputs": [
    {
     "name": "stdout",
     "output_type": "stream",
     "text": [
      "number of training examples = 600\n",
      "number of test examples = 150\n",
      "X_train shape: (600, 64, 64, 3)\n",
      "Y_train shape: (600, 1)\n",
      "X_test shape: (150, 64, 64, 3)\n",
      "Y_test shape: (150, 1)\n"
     ]
    }
   ],
   "source": [
    "X_train_orig, Y_train_orig, X_test_orig, Y_test_orig, classes = load_dataset()\n",
    "\n",
    "# Normalize image vectors\n",
    "X_train = X_train_orig/255.\n",
    "X_test = X_test_orig/255.\n",
    "\n",
    "# Reshape\n",
    "Y_train = Y_train_orig.T\n",
    "Y_test = Y_test_orig.T\n",
    "\n",
    "print (\"number of training examples = \" + str(X_train.shape[0]))\n",
    "print (\"number of test examples = \" + str(X_test.shape[0]))\n",
    "print (\"X_train shape: \" + str(X_train.shape))\n",
    "print (\"Y_train shape: \" + str(Y_train.shape))\n",
    "print (\"X_test shape: \" + str(X_test.shape))\n",
    "print (\"Y_test shape: \" + str(Y_test.shape))"
   ]
  },
  {
   "cell_type": "markdown",
   "metadata": {},
   "source": [
    "**Details of the \"Happy\" dataset**:\n",
    "- Images are of shape (64,64,3)\n",
    "- Training: 600 pictures\n",
    "- Test: 150 pictures\n",
    "\n",
    "It is now time to solve the \"Happy\" Challenge."
   ]
  },
  {
   "cell_type": "markdown",
   "metadata": {},
   "source": [
    "## 2 - Building a model in Keras\n",
    "\n",
    "Keras is very good for rapid prototyping. In just a short time you will be able to build a model that achieves outstanding results.\n",
    "\n",
    "Here is an example of a model in Keras:\n",
    "\n",
    "```python\n",
    "def model(input_shape):\n",
    "    # Define the input placeholder as a tensor with shape input_shape. Think of this as your input image!\n",
    "    X_input = Input(input_shape)\n",
    "\n",
    "    # Zero-Padding: pads the border of X_input with zeroes\n",
    "    X = ZeroPadding2D((3, 3))(X_input)\n",
    "\n",
    "    # CONV -> BN -> RELU Block applied to X\n",
    "    X = Conv2D(32, (7, 7), strides = (1, 1), name = 'conv0')(X)\n",
    "    X = BatchNormalization(axis = 3, name = 'bn0')(X)\n",
    "    X = Activation('relu')(X)\n",
    "\n",
    "    # MAXPOOL\n",
    "    X = MaxPooling2D((2, 2), name='max_pool')(X)\n",
    "\n",
    "    # FLATTEN X (means convert it to a vector) + FULLYCONNECTED\n",
    "    X = Flatten()(X)\n",
    "    X = Dense(1, activation='sigmoid', name='fc')(X)\n",
    "\n",
    "    # Create model. This creates your Keras model instance, you'll use this instance to train/test the model.\n",
    "    model = Model(inputs = X_input, outputs = X, name='HappyModel')\n",
    "    \n",
    "    return model\n",
    "```\n",
    "\n",
    "Note that Keras uses a different convention with variable names than we've previously used with numpy and TensorFlow. In particular, rather than creating and assigning a new variable on each step of forward propagation such as `X`, `Z1`, `A1`, `Z2`, `A2`, etc. for the computations for the different layers, in Keras code each line above just reassigns `X` to a new value using `X = ...`. In other words, during each step of forward propagation, we are just writing the latest value in the commputation into the same variable `X`. The only exception was `X_input`, which we kept separate and did not overwrite, since we needed it at the end to create the Keras model instance (`model = Model(inputs = X_input, ...)` above). \n",
    "\n",
    "**Exercise**: Implement a `HappyModel()`. This assignment is more open-ended than most. We suggest that you start by implementing a model using the architecture we suggest, and run through the rest of this assignment using that as your initial model. But after that, come back and take initiative to try out other model architectures. For example, you might take inspiration from the model above, but then vary the network architecture and hyperparameters however you wish. You can also use other functions such as `AveragePooling2D()`, `GlobalMaxPooling2D()`, `Dropout()`. \n",
    "\n",
    "**Note**: You have to be careful with your data's shapes. Use what you've learned in the videos to make sure your convolutional, pooling and fully-connected layers are adapted to the volumes you're applying it to."
   ]
  },
  {
   "cell_type": "code",
   "execution_count": 3,
   "metadata": {},
   "outputs": [],
   "source": [
    "# GRADED FUNCTION: HappyModel\n",
    "\n",
    "def HappyModel(input_shape):\n",
    "    \"\"\"\n",
    "    Implementation of the HappyModel.\n",
    "    \n",
    "    Arguments:\n",
    "    input_shape -- shape of the images of the dataset\n",
    "\n",
    "    Returns:\n",
    "    model -- a Model() instance in Keras\n",
    "    \"\"\"\n",
    "    \n",
    "    ### START CODE HERE ###\n",
    "    # Feel free to use the suggested outline in the text above to get started, and run through the whole\n",
    "    \n",
    "    # Define the input placeholder as a tensor with shape input_shape. Think of this as your input image!\n",
    "    X_input=Input(input_shape)\n",
    "    \n",
    "    # Zero-Padding: pads the border of X_input with zeroes\n",
    "    X=ZeroPadding2D((3,3))(X_input)\n",
    "    print(\"X_padding shape:\",X.shape)\n",
    "\n",
    "    # CONV -> BN -> RELU Block applied to X\n",
    "    X=Conv2D(32,(7,7),strides=(1,1),name='conv0')(X)\n",
    "    # 对于多通道的输入数据(二维卷积核对三维内容进行卷积)，卷积操作确实是对每个通道独立进行的，但这是在每个通道上使用相同的卷积核。\n",
    "    # 卷积核的权重对于每个通道都是相同的，然后在每个通道的卷积结果上进行逐元素相加，得到最终的输出。\n",
    "    \n",
    "    print(\"X_conv0 shape:\",X.shape)\n",
    "\n",
    "    X=BatchNormalization(axis=3,name='bn0')(X)\n",
    "    print(\"X_bn0 shape:\",X.shape)\n",
    "\n",
    "    X=Activation('relu')(X)\n",
    "    \n",
    "    # MAXPOOL\n",
    "    X=MaxPooling2D((2,2),name='max_pool')(X)\n",
    "    print(\"X_max_pool shape:\",X.shape)\n",
    "\n",
    "    # FLATTEN X (means convert it to a vector) + FULLYCONNECTED\n",
    "    X=Flatten()(X)\n",
    "    print(\"X_flatten shape:\",X.shape)\n",
    "\n",
    "    X=Dense(1,activation='sigmoid',name='fc')(X)\n",
    "    print(\"X_dense shape:\",X.shape)\n",
    "    \n",
    "    # Create model. This creates your Keras model instance, you'll use this instance to train/test the model.\n",
    "    model=Model(inputs=X_input,outputs=X,name='HappyModel')\n",
    "    # exercise (including the later portions of this notebook) once. The come back also try out other\n",
    "    # network architectures as well. \n",
    "    \n",
    "    \n",
    "    ### END CODE HERE ###\n",
    "    \n",
    "    return model"
   ]
  },
  {
   "cell_type": "markdown",
   "metadata": {},
   "source": [
    "You have now built a function to describe your model. To train and test this model, there are four steps in Keras:\n",
    "1. Create the model by calling the function above\n",
    "2. Compile the model by calling `model.compile(optimizer = \"...\", loss = \"...\", metrics = [\"accuracy\"])`\n",
    "3. Train the model on train data by calling `model.fit(x = ..., y = ..., epochs = ..., batch_size = ...)`\n",
    "4. Test the model on test data by calling `model.evaluate(x = ..., y = ...)`\n",
    "\n",
    "If you want to know more about `model.compile()`, `model.fit()`, `model.evaluate()` and their arguments, refer to the official [Keras documentation](https://keras.io/models/model/).\n",
    "\n",
    "**Exercise**: Implement step 1, i.e. create the model."
   ]
  },
  {
   "cell_type": "code",
   "execution_count": 4,
   "metadata": {},
   "outputs": [
    {
     "name": "stdout",
     "output_type": "stream",
     "text": [
      "X_padding shape: (None, 70, 70, 3)\n",
      "X_conv0 shape: (None, 64, 64, 32)\n",
      "X_bn0 shape: (None, 64, 64, 32)\n",
      "X_max_pool shape: (None, 32, 32, 32)\n",
      "X_flatten shape: (None, 32768)\n",
      "X_dense shape: (None, 1)\n"
     ]
    }
   ],
   "source": [
    "### START CODE HERE ### (1 line)\n",
    "happyModel = HappyModel(X_train.shape[1:])\n",
    "### END CODE HERE ###"
   ]
  },
  {
   "cell_type": "markdown",
   "metadata": {},
   "source": [
    "**Exercise**: Implement step 2, i.e. compile the model to configure the learning process. Choose the 3 arguments of `compile()` wisely. Hint: the Happy Challenge is a binary classification problem."
   ]
  },
  {
   "cell_type": "code",
   "execution_count": 5,
   "metadata": {},
   "outputs": [],
   "source": [
    "### START CODE HERE ### (1 line)\n",
    "happyModel.compile(optimizer='adam',loss='binary_crossentropy',metrics=['accuracy'])\n",
    "### END CODE HERE ###"
   ]
  },
  {
   "cell_type": "markdown",
   "metadata": {},
   "source": [
    "**Exercise**: Implement step 3, i.e. train the model. Choose the number of epochs and the batch size."
   ]
  },
  {
   "cell_type": "code",
   "execution_count": 6,
   "metadata": {},
   "outputs": [
    {
     "name": "stdout",
     "output_type": "stream",
     "text": [
      "Epoch 1/40\n",
      "12/12 [==============================] - 2s 121ms/step - loss: 1.9606 - accuracy: 0.5917\n",
      "Epoch 2/40\n",
      "12/12 [==============================] - 2s 160ms/step - loss: 0.4191 - accuracy: 0.8167\n",
      "Epoch 3/40\n",
      "12/12 [==============================] - 2s 169ms/step - loss: 0.2333 - accuracy: 0.9000\n",
      "Epoch 4/40\n",
      "12/12 [==============================] - 2s 197ms/step - loss: 0.1704 - accuracy: 0.9317\n",
      "Epoch 5/40\n",
      "12/12 [==============================] - 2s 189ms/step - loss: 0.1845 - accuracy: 0.9217\n",
      "Epoch 6/40\n",
      "12/12 [==============================] - 2s 184ms/step - loss: 0.1132 - accuracy: 0.9600\n",
      "Epoch 7/40\n",
      "12/12 [==============================] - 3s 215ms/step - loss: 0.0811 - accuracy: 0.9750\n",
      "Epoch 8/40\n",
      "12/12 [==============================] - 3s 220ms/step - loss: 0.0726 - accuracy: 0.9800\n",
      "Epoch 9/40\n",
      "12/12 [==============================] - 3s 209ms/step - loss: 0.0637 - accuracy: 0.9833\n",
      "Epoch 10/40\n",
      "12/12 [==============================] - 2s 191ms/step - loss: 0.0553 - accuracy: 0.9900\n",
      "Epoch 11/40\n",
      "12/12 [==============================] - 2s 179ms/step - loss: 0.0486 - accuracy: 0.9867\n",
      "Epoch 12/40\n",
      "12/12 [==============================] - 2s 174ms/step - loss: 0.0468 - accuracy: 0.9867\n",
      "Epoch 13/40\n",
      "12/12 [==============================] - 2s 153ms/step - loss: 0.0443 - accuracy: 0.9900\n",
      "Epoch 14/40\n",
      "12/12 [==============================] - 2s 152ms/step - loss: 0.0396 - accuracy: 0.9917\n",
      "Epoch 15/40\n",
      "12/12 [==============================] - 2s 152ms/step - loss: 0.0454 - accuracy: 0.9850\n",
      "Epoch 16/40\n",
      "12/12 [==============================] - 2s 138ms/step - loss: 0.0420 - accuracy: 0.9867\n",
      "Epoch 17/40\n",
      "12/12 [==============================] - 2s 139ms/step - loss: 0.0356 - accuracy: 0.9900\n",
      "Epoch 18/40\n",
      "12/12 [==============================] - 2s 145ms/step - loss: 0.0277 - accuracy: 0.9950\n",
      "Epoch 19/40\n",
      "12/12 [==============================] - 2s 144ms/step - loss: 0.0280 - accuracy: 0.9967\n",
      "Epoch 20/40\n",
      "12/12 [==============================] - 2s 142ms/step - loss: 0.0247 - accuracy: 0.9917\n",
      "Epoch 21/40\n",
      "12/12 [==============================] - 2s 166ms/step - loss: 0.0261 - accuracy: 0.9933\n",
      "Epoch 22/40\n",
      "12/12 [==============================] - 2s 142ms/step - loss: 0.0223 - accuracy: 0.9967\n",
      "Epoch 23/40\n",
      "12/12 [==============================] - 2s 138ms/step - loss: 0.0250 - accuracy: 0.9950\n",
      "Epoch 24/40\n",
      "12/12 [==============================] - 2s 160ms/step - loss: 0.0267 - accuracy: 0.9967\n",
      "Epoch 25/40\n",
      "12/12 [==============================] - 2s 153ms/step - loss: 0.0186 - accuracy: 0.9967\n",
      "Epoch 26/40\n",
      "12/12 [==============================] - 2s 151ms/step - loss: 0.0178 - accuracy: 0.9967\n",
      "Epoch 27/40\n",
      "12/12 [==============================] - 2s 165ms/step - loss: 0.0186 - accuracy: 0.9933\n",
      "Epoch 28/40\n",
      "12/12 [==============================] - 2s 146ms/step - loss: 0.0196 - accuracy: 0.9983\n",
      "Epoch 29/40\n",
      "12/12 [==============================] - 2s 148ms/step - loss: 0.0209 - accuracy: 0.9933\n",
      "Epoch 30/40\n",
      "12/12 [==============================] - 2s 134ms/step - loss: 0.0341 - accuracy: 0.9900\n",
      "Epoch 31/40\n",
      "12/12 [==============================] - 2s 144ms/step - loss: 0.0263 - accuracy: 0.9950\n",
      "Epoch 32/40\n",
      "12/12 [==============================] - 2s 146ms/step - loss: 0.0192 - accuracy: 0.9967\n",
      "Epoch 33/40\n",
      "12/12 [==============================] - 2s 146ms/step - loss: 0.0200 - accuracy: 0.9983\n",
      "Epoch 34/40\n",
      "12/12 [==============================] - 2s 147ms/step - loss: 0.0128 - accuracy: 0.9983\n",
      "Epoch 35/40\n",
      "12/12 [==============================] - 2s 153ms/step - loss: 0.0128 - accuracy: 0.9983\n",
      "Epoch 36/40\n",
      "12/12 [==============================] - 2s 166ms/step - loss: 0.0132 - accuracy: 0.9967\n",
      "Epoch 37/40\n",
      "12/12 [==============================] - 2s 146ms/step - loss: 0.0111 - accuracy: 0.9983\n",
      "Epoch 38/40\n",
      "12/12 [==============================] - 2s 146ms/step - loss: 0.0099 - accuracy: 0.9983\n",
      "Epoch 39/40\n",
      "12/12 [==============================] - 2s 160ms/step - loss: 0.0095 - accuracy: 0.9983\n",
      "Epoch 40/40\n",
      "12/12 [==============================] - 2s 156ms/step - loss: 0.0092 - accuracy: 0.9983\n"
     ]
    },
    {
     "data": {
      "text/plain": [
       "<keras.callbacks.History at 0x2100191a0b0>"
      ]
     },
     "execution_count": 6,
     "metadata": {},
     "output_type": "execute_result"
    }
   ],
   "source": [
    "### START CODE HERE ### (1 line)\n",
    "happyModel.fit(x=X_train,y=Y_train,epochs=40,batch_size=50)\n",
    "### END CODE HERE ###"
   ]
  },
  {
   "cell_type": "markdown",
   "metadata": {},
   "source": [
    "Note that if you run `fit()` again, the `model` will continue to train with the parameters it has already learnt instead of reinitializing them.\n",
    "\n",
    "**Exercise**: Implement step 4, i.e. test/evaluate the model."
   ]
  },
  {
   "cell_type": "code",
   "execution_count": 7,
   "metadata": {
    "scrolled": true
   },
   "outputs": [
    {
     "name": "stdout",
     "output_type": "stream",
     "text": [
      "5/5 [==============================] - 0s 25ms/step - loss: 0.0992 - accuracy: 0.9667\n",
      "\n",
      "Loss = 0.09920251369476318\n",
      "Test Accuracy = 0.9666666388511658\n"
     ]
    }
   ],
   "source": [
    "### START CODE HERE ### (1 line)\n",
    "preds=happyModel.evaluate(x=X_test,y=Y_test)\n",
    "### END CODE HERE ###\n",
    "print()\n",
    "print (\"Loss = \" + str(preds[0]))\n",
    "print (\"Test Accuracy = \" + str(preds[1]))"
   ]
  },
  {
   "cell_type": "markdown",
   "metadata": {},
   "source": [
    "If your `happyModel()` function worked, you should have observed much better than random-guessing (50%) accuracy on the train and test sets.\n",
    "\n",
    "To give you a point of comparison, our model gets around **95% test accuracy in 40 epochs** (and 99% train accuracy) with a mini batch size of 16 and \"adam\" optimizer. But our model gets decent accuracy after just 2-5 epochs, so if you're comparing different models you can also train a variety of models on just a few epochs and see how they compare. \n",
    "\n",
    "If you have not yet achieved a very good accuracy (let's say more than 80%), here're some things you can play around with to try to achieve it:\n",
    "\n",
    "- Try using blocks of CONV->BATCHNORM->RELU such as:\n",
    "```python\n",
    "X = Conv2D(32, (3, 3), strides = (1, 1), name = 'conv0')(X)\n",
    "X = BatchNormalization(axis = 3, name = 'bn0')(X)\n",
    "X = Activation('relu')(X)\n",
    "```\n",
    "until your height and width dimensions are quite low and your number of channels quite large (≈32 for example). You are encoding useful information in a volume with a lot of channels. You can then flatten the volume and use a fully-connected layer.\n",
    "- You can use MAXPOOL after such blocks. It will help you lower the dimension in height and width.\n",
    "- Change your optimizer. We find Adam works well. \n",
    "- If the model is struggling to run and you get memory issues, lower your batch_size (12 is usually a good compromise)\n",
    "- Run on more epochs, until you see the train accuracy plateauing. \n",
    "\n",
    "Even if you have achieved a good accuracy, please feel free to keep playing with your model to try to get even better results. \n",
    "\n",
    "**Note**: If you perform hyperparameter tuning on your model, the test set actually becomes a dev set, and your model might end up overfitting to the test (dev) set. But just for the purpose of this assignment, we won't worry about that here.\n"
   ]
  },
  {
   "cell_type": "markdown",
   "metadata": {},
   "source": [
    "## 3 - Conclusion\n",
    "\n",
    "Congratulations, you have solved the Happy House challenge! \n",
    "\n",
    "Now, you just need to link this model to the front-door camera of your house. We unfortunately won't go into the details of how to do that here. "
   ]
  },
  {
   "cell_type": "markdown",
   "metadata": {},
   "source": [
    "<font color='blue'>\n",
    "**What we would like you to remember from this assignment:**\n",
    "- Keras is a tool we recommend for rapid prototyping. It allows you to quickly try out different model architectures. Are there any applications of deep learning to your daily life that you'd like to implement using Keras? \n",
    "- Remember how to code a model in Keras and the four steps leading to the evaluation of your model on the test set. Create->Compile->Fit/Train->Evaluate/Test."
   ]
  },
  {
   "cell_type": "markdown",
   "metadata": {},
   "source": [
    "## 4 - Test with your own image (Optional)\n",
    "\n",
    "Congratulations on finishing this assignment. You can now take a picture of your face and see if you could enter the Happy House. To do that:\n",
    "    1. Click on \"File\" in the upper bar of this notebook, then click \"Open\" to go on your Coursera Hub.\n",
    "    2. Add your image to this Jupyter Notebook's directory, in the \"images\" folder\n",
    "    3. Write your image's name in the following code\n",
    "    4. Run the code and check if the algorithm is right (0 is unhappy, 1 is happy)!\n",
    "    \n",
    "The training/test sets were quite similar; for example, all the pictures were taken against the same background (since a front door camera is always mounted in the same position). This makes the problem easier, but a model trained on this data may or may not work on your own data. But feel free to give it a try! "
   ]
  },
  {
   "cell_type": "code",
   "execution_count": 11,
   "metadata": {},
   "outputs": [
    {
     "name": "stdout",
     "output_type": "stream",
     "text": [
      "1/1 [==============================] - 0s 26ms/step\n",
      "[[1.]]\n"
     ]
    },
    {
     "data": {
      "image/png": "[encoded data removed]",
      "text/plain": [
       "<Figure size 640x480 with 1 Axes>"
      ]
     },
     "metadata": {},
     "output_type": "display_data"
    }
   ],
   "source": [
    "from tensorflow.keras.preprocessing import image\n",
    "from tensorflow.keras.applications.imagenet_utils import preprocess_input\n",
    "### START CODE HERE ###\n",
    "img_path=\"images/smile.jpg\"\n",
    "### END CODE HERE ###\n",
    "img = image.load_img(img_path, target_size=(64, 64))\n",
    "imshow(img)\n",
    "\n",
    "x = image.img_to_array(img)\n",
    "x = np.expand_dims(x, axis=0)\n",
    "x = preprocess_input(x)\n",
    "\n",
    "print(happyModel.predict(x))"
   ]
  },
  {
   "cell_type": "markdown",
   "metadata": {},
   "source": [
    "## 5 - Other useful functions in Keras (Optional)\n",
    "\n",
    "Two other basic features of Keras that you'll find useful are:\n",
    "- `model.summary()`: prints the details of your layers in a table with the sizes of its inputs/outputs\n",
    "- `plot_model()`: plots your graph in a nice layout. You can even save it as \".png\" using SVG() if you'd like to share it on social media ;). It is saved in \"File\" then \"Open...\" in the upper bar of the notebook.\n",
    "\n",
    "Run the following code."
   ]
  },
  {
   "cell_type": "code",
   "execution_count": 9,
   "metadata": {
    "scrolled": false
   },
   "outputs": [
    {
     "name": "stdout",
     "output_type": "stream",
     "text": [
      "Model: \"HappyModel\"\n",
      "_________________________________________________________________\n",
      " Layer (type)                Output Shape              Param #   \n",
      "=================================================================\n",
      " input_1 (InputLayer)        [(None, 64, 64, 3)]       0         \n",
      "                                                                 \n",
      " zero_padding2d (ZeroPadding  (None, 70, 70, 3)        0         \n",
      " 2D)                                                             \n",
      "                                                                 \n",
      " conv0 (Conv2D)              (None, 64, 64, 32)        4736      \n",
      "                                                                 \n",
      " bn0 (BatchNormalization)    (None, 64, 64, 32)        128       \n",
      "                                                                 \n",
      " activation (Activation)     (None, 64, 64, 32)        0         \n",
      "                                                                 \n",
      " max_pool (MaxPooling2D)     (None, 32, 32, 32)        0         \n",
      "                                                                 \n",
      " flatten (Flatten)           (None, 32768)             0         \n",
      "                                                                 \n",
      " fc (Dense)                  (None, 1)                 32769     \n",
      "                                                                 \n",
      "=================================================================\n",
      "Total params: 37,633\n",
      "Trainable params: 37,569\n",
      "Non-trainable params: 64\n",
      "_________________________________________________________________\n"
     ]
    }
   ],
   "source": [
    "happyModel.summary()"
   ]
  },
  {
   "cell_type": "code",
   "execution_count": 10,
   "metadata": {},
   "outputs": [
    {
     "data": {
      "image/svg+xml": [
       "<svg xmlns=\"http://www.w3.org/2000/svg\" xmlns:xlink=\"http://www.w3.org/1999/xlink\" width=\"293pt\" height=\"741pt\" viewBox=\"0.00 0.00 220.00 556.00\">\n",
       "<g id=\"graph0\" class=\"graph\" transform=\"scale(1.33333 1.33333) rotate(0) translate(4 552)\">\n",
       "<title>G</title>\n",
       "<polygon fill=\"white\" stroke=\"transparent\" points=\"-4,4 -4,-552 216,-552 216,4 -4,4\"/>\n",
       "<!-- 2267763113840 -->\n",
       "<g id=\"node1\" class=\"node\">\n",
       "<title>2267763113840</title>\n",
       "<polygon fill=\"none\" stroke=\"black\" points=\"38,-511.5 38,-547.5 174,-547.5 174,-511.5 38,-511.5\"/>\n",
       "<text text-anchor=\"middle\" x=\"67.5\" y=\"-525.8\" font-family=\"Times New Roman,serif\" font-size=\"14.00\">input_1</text>\n",
       "<polyline fill=\"none\" stroke=\"black\" points=\"97,-511.5 97,-547.5 \"/>\n",
       "<text text-anchor=\"middle\" x=\"135.5\" y=\"-525.8\" font-family=\"Times New Roman,serif\" font-size=\"14.00\">InputLayer</text>\n",
       "</g>\n",
       "<!-- 2267763446432 -->\n",
       "<g id=\"node2\" class=\"node\">\n",
       "<title>2267763446432</title>\n",
       "<polygon fill=\"none\" stroke=\"black\" points=\"0,-438.5 0,-474.5 212,-474.5 212,-438.5 0,-438.5\"/>\n",
       "<text text-anchor=\"middle\" x=\"53.5\" y=\"-452.8\" font-family=\"Times New Roman,serif\" font-size=\"14.00\">zero_padding2d</text>\n",
       "<polyline fill=\"none\" stroke=\"black\" points=\"107,-438.5 107,-474.5 \"/>\n",
       "<text text-anchor=\"middle\" x=\"159.5\" y=\"-452.8\" font-family=\"Times New Roman,serif\" font-size=\"14.00\">ZeroPadding2D</text>\n",
       "</g>\n",
       "<!-- 2267763113840&#45;&gt;2267763446432 -->\n",
       "<g id=\"edge1\" class=\"edge\">\n",
       "<title>2267763113840-&gt;2267763446432</title>\n",
       "<path fill=\"none\" stroke=\"black\" d=\"M106,-511.31C106,-503.29 106,-493.55 106,-484.57\"/>\n",
       "<polygon fill=\"black\" stroke=\"black\" points=\"109.5,-484.53 106,-474.53 102.5,-484.53 109.5,-484.53\"/>\n",
       "</g>\n",
       "<!-- 2267763449312 -->\n",
       "<g id=\"node3\" class=\"node\">\n",
       "<title>2267763449312</title>\n",
       "<polygon fill=\"none\" stroke=\"black\" points=\"48.5,-365.5 48.5,-401.5 163.5,-401.5 163.5,-365.5 48.5,-365.5\"/>\n",
       "<text text-anchor=\"middle\" x=\"74\" y=\"-379.8\" font-family=\"Times New Roman,serif\" font-size=\"14.00\">conv0</text>\n",
       "<polyline fill=\"none\" stroke=\"black\" points=\"99.5,-365.5 99.5,-401.5 \"/>\n",
       "<text text-anchor=\"middle\" x=\"131.5\" y=\"-379.8\" font-family=\"Times New Roman,serif\" font-size=\"14.00\">Conv2D</text>\n",
       "</g>\n",
       "<!-- 2267763446432&#45;&gt;2267763449312 -->\n",
       "<g id=\"edge2\" class=\"edge\">\n",
       "<title>2267763446432-&gt;2267763449312</title>\n",
       "<path fill=\"none\" stroke=\"black\" d=\"M106,-438.31C106,-430.29 106,-420.55 106,-411.57\"/>\n",
       "<polygon fill=\"black\" stroke=\"black\" points=\"109.5,-411.53 106,-401.53 102.5,-411.53 109.5,-411.53\"/>\n",
       "</g>\n",
       "<!-- 2267763449648 -->\n",
       "<g id=\"node4\" class=\"node\">\n",
       "<title>2267763449648</title>\n",
       "<polygon fill=\"none\" stroke=\"black\" points=\"24,-292.5 24,-328.5 188,-328.5 188,-292.5 24,-292.5\"/>\n",
       "<text text-anchor=\"middle\" x=\"43\" y=\"-306.8\" font-family=\"Times New Roman,serif\" font-size=\"14.00\">bn0</text>\n",
       "<polyline fill=\"none\" stroke=\"black\" points=\"62,-292.5 62,-328.5 \"/>\n",
       "<text text-anchor=\"middle\" x=\"125\" y=\"-306.8\" font-family=\"Times New Roman,serif\" font-size=\"14.00\">BatchNormalization</text>\n",
       "</g>\n",
       "<!-- 2267763449312&#45;&gt;2267763449648 -->\n",
       "<g id=\"edge3\" class=\"edge\">\n",
       "<title>2267763449312-&gt;2267763449648</title>\n",
       "<path fill=\"none\" stroke=\"black\" d=\"M106,-365.31C106,-357.29 106,-347.55 106,-338.57\"/>\n",
       "<polygon fill=\"black\" stroke=\"black\" points=\"109.5,-338.53 106,-328.53 102.5,-338.53 109.5,-338.53\"/>\n",
       "</g>\n",
       "<!-- 2267763454160 -->\n",
       "<g id=\"node5\" class=\"node\">\n",
       "<title>2267763454160</title>\n",
       "<polygon fill=\"none\" stroke=\"black\" points=\"34,-219.5 34,-255.5 178,-255.5 178,-219.5 34,-219.5\"/>\n",
       "<text text-anchor=\"middle\" x=\"69\" y=\"-233.8\" font-family=\"Times New Roman,serif\" font-size=\"14.00\">activation</text>\n",
       "<polyline fill=\"none\" stroke=\"black\" points=\"104,-219.5 104,-255.5 \"/>\n",
       "<text text-anchor=\"middle\" x=\"141\" y=\"-233.8\" font-family=\"Times New Roman,serif\" font-size=\"14.00\">Activation</text>\n",
       "</g>\n",
       "<!-- 2267763449648&#45;&gt;2267763454160 -->\n",
       "<g id=\"edge4\" class=\"edge\">\n",
       "<title>2267763449648-&gt;2267763454160</title>\n",
       "<path fill=\"none\" stroke=\"black\" d=\"M106,-292.31C106,-284.29 106,-274.55 106,-265.57\"/>\n",
       "<polygon fill=\"black\" stroke=\"black\" points=\"109.5,-265.53 106,-255.53 102.5,-265.53 109.5,-265.53\"/>\n",
       "</g>\n",
       "<!-- 2267763456464 -->\n",
       "<g id=\"node6\" class=\"node\">\n",
       "<title>2267763456464</title>\n",
       "<polygon fill=\"none\" stroke=\"black\" points=\"19,-146.5 19,-182.5 193,-182.5 193,-146.5 19,-146.5\"/>\n",
       "<text text-anchor=\"middle\" x=\"55.5\" y=\"-160.8\" font-family=\"Times New Roman,serif\" font-size=\"14.00\">max_pool</text>\n",
       "<polyline fill=\"none\" stroke=\"black\" points=\"92,-146.5 92,-182.5 \"/>\n",
       "<text text-anchor=\"middle\" x=\"142.5\" y=\"-160.8\" font-family=\"Times New Roman,serif\" font-size=\"14.00\">MaxPooling2D</text>\n",
       "</g>\n",
       "<!-- 2267763454160&#45;&gt;2267763456464 -->\n",
       "<g id=\"edge5\" class=\"edge\">\n",
       "<title>2267763454160-&gt;2267763456464</title>\n",
       "<path fill=\"none\" stroke=\"black\" d=\"M106,-219.31C106,-211.29 106,-201.55 106,-192.57\"/>\n",
       "<polygon fill=\"black\" stroke=\"black\" points=\"109.5,-192.53 106,-182.53 102.5,-192.53 109.5,-192.53\"/>\n",
       "</g>\n",
       "<!-- 2267764543344 -->\n",
       "<g id=\"node7\" class=\"node\">\n",
       "<title>2267764543344</title>\n",
       "<polygon fill=\"none\" stroke=\"black\" points=\"54,-73.5 54,-109.5 158,-109.5 158,-73.5 54,-73.5\"/>\n",
       "<text text-anchor=\"middle\" x=\"79\" y=\"-87.8\" font-family=\"Times New Roman,serif\" font-size=\"14.00\">flatten</text>\n",
       "<polyline fill=\"none\" stroke=\"black\" points=\"104,-73.5 104,-109.5 \"/>\n",
       "<text text-anchor=\"middle\" x=\"131\" y=\"-87.8\" font-family=\"Times New Roman,serif\" font-size=\"14.00\">Flatten</text>\n",
       "</g>\n",
       "<!-- 2267763456464&#45;&gt;2267764543344 -->\n",
       "<g id=\"edge6\" class=\"edge\">\n",
       "<title>2267763456464-&gt;2267764543344</title>\n",
       "<path fill=\"none\" stroke=\"black\" d=\"M106,-146.31C106,-138.29 106,-128.55 106,-119.57\"/>\n",
       "<polygon fill=\"black\" stroke=\"black\" points=\"109.5,-119.53 106,-109.53 102.5,-119.53 109.5,-119.53\"/>\n",
       "</g>\n",
       "<!-- 2267764545504 -->\n",
       "<g id=\"node8\" class=\"node\">\n",
       "<title>2267764545504</title>\n",
       "<polygon fill=\"none\" stroke=\"black\" points=\"66.5,-0.5 66.5,-36.5 145.5,-36.5 145.5,-0.5 66.5,-0.5\"/>\n",
       "<text text-anchor=\"middle\" x=\"80.5\" y=\"-14.8\" font-family=\"Times New Roman,serif\" font-size=\"14.00\">fc</text>\n",
       "<polyline fill=\"none\" stroke=\"black\" points=\"94.5,-0.5 94.5,-36.5 \"/>\n",
       "<text text-anchor=\"middle\" x=\"120\" y=\"-14.8\" font-family=\"Times New Roman,serif\" font-size=\"14.00\">Dense</text>\n",
       "</g>\n",
       "<!-- 2267764543344&#45;&gt;2267764545504 -->\n",
       "<g id=\"edge7\" class=\"edge\">\n",
       "<title>2267764543344-&gt;2267764545504</title>\n",
       "<path fill=\"none\" stroke=\"black\" d=\"M106,-73.31C106,-65.29 106,-55.55 106,-46.57\"/>\n",
       "<polygon fill=\"black\" stroke=\"black\" points=\"109.5,-46.53 106,-36.53 102.5,-46.53 109.5,-46.53\"/>\n",
       "</g>\n",
       "</g>\n",
       "</svg>"
      ],
      "text/plain": [
       "<IPython.core.display.SVG object>"
      ]
     },
     "execution_count": 10,
     "metadata": {},
     "output_type": "execute_result"
    }
   ],
   "source": [
    "plot_model(happyModel, to_file='HappyModel.png')\n",
    "SVG(model_to_dot(happyModel).create(prog='dot', format='svg'))"
   ]
  },
  {
   "cell_type": "code",
   "execution_count": null,
   "metadata": {},
   "outputs": [],
   "source": []
  }
 ],
 "metadata": {
  "kernelspec": {
   "display_name": "Python 3",
   "language": "python",
   "name": "python3"
  },
  "language_info": {
   "codemirror_mode": {
    "name": "ipython",
    "version": 3
   },
   "file_extension": ".py",
   "mimetype": "text/x-python",
   "name": "python",
   "nbconvert_exporter": "python",
   "pygments_lexer": "ipython3",
   "version": "3.10.5"
  },
  "widgets": {
   "application/vnd.jupyter.widget-state+json": {
    "state": {},
    "version_major": 2,
    "version_minor": 0
   }
  }
 },
 "nbformat": 4,
 "nbformat_minor": 2
}
